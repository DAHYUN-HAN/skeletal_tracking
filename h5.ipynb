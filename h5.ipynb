{
 "cells": [
  {
   "cell_type": "code",
   "execution_count": 14,
   "metadata": {},
   "outputs": [
    {
     "name": "stdout",
     "output_type": "stream",
     "text": [
      "(10501, 240, 320) (10501,)\n"
     ]
    }
   ],
   "source": [
    "import h5py\n",
    "import numpy as np\n",
    "\n",
    "f = h5py.File('C:/Users/dahyun/Downloads/ITOP_side_test_depth_map.h5', 'r')\n",
    "data, ids = f.get('data'), f.get('id')\n",
    "data, ids = np.asarray(data), np.asarray(ids)\n",
    "\n",
    "print(data.shape, ids.shape)\n",
    "# (10501, 240, 320) (10501,)"
   ]
  },
  {
   "cell_type": "code",
   "execution_count": 104,
   "metadata": {},
   "outputs": [],
   "source": [
    "joint_id_to_name = {\n",
    "  0: '0',\n",
    "  1: '0',\n",
    "  2: '2',\n",
    "  3: '3',\n",
    "  4: '4',\n",
    "  5: '5',\n",
    "  6: '6',\n",
    "  7: '7',\n",
    "  8: '8',\n",
    "  9: '9',\n",
    "  10: '10',\n",
    "  11: '11',\n",
    "  12: '12',\n",
    "  13: '13',\n",
    "  14: '14',\n",
    "}"
   ]
  },
  {
   "cell_type": "code",
   "execution_count": 138,
   "metadata": {},
   "outputs": [],
   "source": [
    "import h5py\n",
    "import numpy as np\n",
    "import cv2\n",
    "depth_maps = h5py.File('C:/Users/dahyun/Downloads/ITOP_side_test_depth_map.h5', 'r')\n",
    "labels = h5py.File('C:/Users/dahyun/Downloads/ITOP_side_test_labels.h5', 'r')\n",
    "point_cloud= h5py.File('C:/Users/dahyun/Downloads/ITOP_side_test_point_cloud.h5', 'r')\n",
    "i=122\n",
    "points=100*np.array(point_cloud['data'][i])\n",
    "depth_map = depth_maps['data'][i].astype(np.float32)\n",
    "joints = labels['image_coordinates'][i]\n",
    "img = cv2.normalize(depth_map, depth_map, 0, 1, cv2.NORM_MINMAX)\n",
    "img = np.array(img * 255, dtype = np.uint8)\n",
    "img = cv2.cvtColor(img, cv2.COLOR_GRAY2RGB)\n",
    "img = cv2.applyColorMap(img, cv2.COLORMAP_OCEAN)"
   ]
  },
  {
   "cell_type": "code",
   "execution_count": 141,
   "metadata": {},
   "outputs": [
    {
     "data": {
      "text/plain": [
       "(15, 2)"
      ]
     },
     "execution_count": 141,
     "metadata": {},
     "output_type": "execute_result"
    }
   ],
   "source": [
    "joints.shape"
   ]
  },
  {
   "cell_type": "code",
   "execution_count": 140,
   "metadata": {},
   "outputs": [],
   "source": [
    "cv2.imshow('Original', img)\n",
    "cv2.waitKey(0)\n",
    "cv2.destroyAllWindows()"
   ]
  },
  {
   "cell_type": "code",
   "execution_count": 113,
   "metadata": {},
   "outputs": [],
   "source": [
    "img = cv2.normalize(depth_map, depth_map, 0, 1, cv2.NORM_MINMAX)\n",
    "img = np.array(img * 255, dtype = np.uint8)\n",
    "img = cv2.cvtColor(img, cv2.COLOR_GRAY2RGB)\n",
    "img = cv2.applyColorMap(img, cv2.COLORMAP_OCEAN)\n",
    "for j in range(15):\n",
    "    x, y = joints[j, 0], joints[j, 1]\n",
    "    cv2.circle(img, (x,y), 1, (255,255,255), thickness=2)\n",
    "    cv2.putText(img, joint_id_to_name[j], (x+5, y+5), cv2.FONT_HERSHEY_SIMPLEX, 0.3, (255,255,255))\n",
    "cv2.imshow('Mark', img)\n",
    "cv2.waitKey(0)\n",
    "cv2.destroyAllWindows()"
   ]
  },
  {
   "cell_type": "code",
   "execution_count": 142,
   "metadata": {},
   "outputs": [],
   "source": [
    "import h5py\n",
    "import numpy as np\n",
    "import cv2\n",
    "depth_maps = h5py.File('C:/Users/dahyun/Downloads/ITOP_top_test_depth_map.h5', 'r')\n",
    "labels = h5py.File('C:/Users/dahyun/Downloads/ITOP_top_test_labels.h5', 'r')\n",
    "point_cloud= h5py.File('C:/Users/dahyun/Downloads/ITOP_top_test_point_cloud.h5', 'r')\n",
    "i=122\n",
    "points=100*np.array(point_cloud['data'][i])\n",
    "depth_map = depth_maps['data'][i].astype(np.float32)\n",
    "joints = labels['image_coordinates'][i]\n",
    "img = cv2.normalize(depth_map, depth_map, 0, 1, cv2.NORM_MINMAX)\n",
    "img = np.array(img * 255, dtype = np.uint8)\n",
    "img = cv2.cvtColor(img, cv2.COLOR_GRAY2RGB)\n",
    "img = cv2.applyColorMap(img, cv2.COLORMAP_OCEAN)"
   ]
  },
  {
   "cell_type": "code",
   "execution_count": 144,
   "metadata": {},
   "outputs": [
    {
     "data": {
      "text/plain": [
       "array([[150,  88],\n",
       "       [146,  89],\n",
       "       [105,  86],\n",
       "       [188,  92],\n",
       "       [ 72, 126],\n",
       "       [229, 118],\n",
       "       [ 55, 168],\n",
       "       [224, 155],\n",
       "       [148,  97],\n",
       "       [131, 101],\n",
       "       [168, 103],\n",
       "       [134, 101],\n",
       "       [167, 103],\n",
       "       [138,  91],\n",
       "       [164,  95]], dtype=int16)"
      ]
     },
     "execution_count": 144,
     "metadata": {},
     "output_type": "execute_result"
    }
   ],
   "source": [
    "joints"
   ]
  },
  {
   "cell_type": "code",
   "execution_count": 145,
   "metadata": {},
   "outputs": [],
   "source": [
    "cv2.imshow('Original', img)\n",
    "cv2.waitKey(0)\n",
    "cv2.destroyAllWindows()"
   ]
  },
  {
   "cell_type": "code",
   "execution_count": 146,
   "metadata": {},
   "outputs": [],
   "source": [
    "img = cv2.normalize(depth_map, depth_map, 0, 1, cv2.NORM_MINMAX)\n",
    "img = np.array(img * 255, dtype = np.uint8)\n",
    "img = cv2.cvtColor(img, cv2.COLOR_GRAY2RGB)\n",
    "img = cv2.applyColorMap(img, cv2.COLORMAP_OCEAN)\n",
    "for j in range(15):\n",
    "    x, y = joints[j, 0], joints[j, 1]\n",
    "    cv2.circle(img, (x,y), 1, (255,255,255), thickness=2)\n",
    "    cv2.putText(img, joint_id_to_name[j], (x+5, y+5), cv2.FONT_HERSHEY_SIMPLEX, 0.3, (255,255,255))\n",
    "cv2.imshow('Mark', img)\n",
    "cv2.waitKey(0)\n",
    "cv2.destroyAllWindows()"
   ]
  },
  {
   "cell_type": "code",
   "execution_count": null,
   "metadata": {},
   "outputs": [],
   "source": []
  }
 ],
 "metadata": {
  "kernelspec": {
   "display_name": "Python 3",
   "language": "python",
   "name": "python3"
  },
  "language_info": {
   "codemirror_mode": {
    "name": "ipython",
    "version": 3
   },
   "file_extension": ".py",
   "mimetype": "text/x-python",
   "name": "python",
   "nbconvert_exporter": "python",
   "pygments_lexer": "ipython3",
   "version": "3.6.10"
  }
 },
 "nbformat": 4,
 "nbformat_minor": 4
}
